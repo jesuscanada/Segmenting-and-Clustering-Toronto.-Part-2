{
 "cells": [
  {
   "cell_type": "markdown",
   "metadata": {},
   "source": [
    "# Week 3 Project. Segmenting and Clustering Toronto.\n",
    "## Choosing the most suitable Neighbourhood."
   ]
  },
  {
   "cell_type": "markdown",
   "metadata": {},
   "source": [
    "### 1st. Importation of main libraries to the Jupiter Notebook.\n",
    "We will make the imports in various cells as the speed for connection is not always available."
   ]
  },
  {
   "cell_type": "code",
   "execution_count": 1,
   "metadata": {},
   "outputs": [],
   "source": [
    "import pandas as pd\n",
    "import numpy as np\n",
    "import urllib.request"
   ]
  },
  {
   "cell_type": "markdown",
   "metadata": {},
   "source": [
    "### 2nd. Importation of special libraries for visualization and coordinates"
   ]
  },
  {
   "cell_type": "code",
   "execution_count": 2,
   "metadata": {},
   "outputs": [
    {
     "name": "stdout",
     "output_type": "stream",
     "text": [
      "Solving environment: done\n",
      "\n",
      "\n",
      "==> WARNING: A newer version of conda exists. <==\n",
      "  current version: 4.5.11\n",
      "  latest version: 4.7.12\n",
      "\n",
      "Please update conda by running\n",
      "\n",
      "    $ conda update -n base -c defaults conda\n",
      "\n",
      "\n",
      "\n",
      "# All requested packages already installed.\n",
      "\n"
     ]
    }
   ],
   "source": [
    "!conda install -c conda-forge geopy --yes #Needed to reinstall in order to work\n",
    "from geopy.geocoders import Nominatim\n",
    "import folium\n",
    "import requests"
   ]
  },
  {
   "cell_type": "code",
   "execution_count": 3,
   "metadata": {},
   "outputs": [],
   "source": [
    "from sklearn.cluster import KMeans\n",
    "import matplotlib.cm as cm\n",
    "import matplotlib.colors as colors"
   ]
  },
  {
   "cell_type": "markdown",
   "metadata": {},
   "source": [
    "### 3rd. Installation of BeatifulSoup.\n",
    "#### this is a library that will help us to download easily the table within the Wikipedia article"
   ]
  },
  {
   "cell_type": "code",
   "execution_count": null,
   "metadata": {},
   "outputs": [
    {
     "name": "stdout",
     "output_type": "stream",
     "text": [
      "Solving environment: - "
     ]
    }
   ],
   "source": [
    "conda install -c anaconda beautifulsoup4 #Needed to be installeed to make BeautifulSoup work"
   ]
  },
  {
   "cell_type": "code",
   "execution_count": null,
   "metadata": {},
   "outputs": [],
   "source": [
    "from bs4 import BeautifulSoup"
   ]
  },
  {
   "cell_type": "markdown",
   "metadata": {},
   "source": [
    "### Now we will download the Wikipedia page with urllib library utilities."
   ]
  },
  {
   "cell_type": "code",
   "execution_count": null,
   "metadata": {},
   "outputs": [],
   "source": [
    "webpageurl = \"https://en.wikipedia.org/wiki/List_of_postal_codes_of_Canada:_M\"\n",
    "req = urllib.request.urlopen(webpageurl)\n",
    "CanadaZIPsWeb = req.read().decode()\n"
   ]
  },
  {
   "cell_type": "markdown",
   "metadata": {},
   "source": [
    "### We are now using BeautifulSoup to extract the table."
   ]
  },
  {
   "cell_type": "code",
   "execution_count": null,
   "metadata": {},
   "outputs": [],
   "source": [
    "CanadaZIPsoup = BeautifulSoup(CanadaZIPsWeb, 'html.parser')\n",
    "CanadaZIPtable = CanadaZIPsoup.find('table', class_='sortable')\n"
   ]
  },
  {
   "cell_type": "markdown",
   "metadata": {},
   "source": [
    "### Now we create a Panda Dataframe with the structure needed in order to append the data extracted with BeautifulSoup"
   ]
  },
  {
   "cell_type": "code",
   "execution_count": null,
   "metadata": {},
   "outputs": [],
   "source": [
    "dfCanadaNeigh=pd.DataFrame(columns=['Postcode','Borough','Neighbourhood'])\n",
    "dfCanadaNeigh"
   ]
  },
  {
   "cell_type": "markdown",
   "metadata": {},
   "source": [
    "### All data inside the table is after 'td' so we first create the list with all 'td'"
   ]
  },
  {
   "cell_type": "code",
   "execution_count": null,
   "metadata": {},
   "outputs": [],
   "source": [
    "ValuesString=CanadaZIPtable.find_all('td')\n",
    "ValuesString"
   ]
  },
  {
   "cell_type": "markdown",
   "metadata": {},
   "source": [
    "#### Now we use a for in order to read the string and put it into the dataframe. We will add the data without the special characters."
   ]
  },
  {
   "cell_type": "code",
   "execution_count": null,
   "metadata": {},
   "outputs": [],
   "source": [
    "for i in range(1,int(len(ValuesString)/3)): \n",
    "    dfCanadaNeigh=dfCanadaNeigh.append({'Postcode':ValuesString[3*i+0].text.strip('[]\\n'),'Borough':ValuesString[3*i+1].text.strip('[]\\n'),'Neighbourhood':ValuesString[3*i+2].text.strip('[]\\n')},ignore_index=True)\n",
    "dfCanadaNeigh.tail()"
   ]
  },
  {
   "cell_type": "markdown",
   "metadata": {},
   "source": [
    "##### We just perform a safety copy and generate a new one sorted and grouped."
   ]
  },
  {
   "cell_type": "code",
   "execution_count": null,
   "metadata": {},
   "outputs": [],
   "source": [
    "dfCanadaNeighOriginal=dfCanadaNeigh"
   ]
  },
  {
   "cell_type": "markdown",
   "metadata": {},
   "source": [
    "#### Now we join postcodes, neighbourhood as requested"
   ]
  },
  {
   "cell_type": "code",
   "execution_count": null,
   "metadata": {},
   "outputs": [],
   "source": [
    "index_cols = dfCanadaNeigh.columns.tolist()\n",
    "index_cols.remove(\"Neighbourhood\") \n",
    "dfCanadaNeigh = dfCanadaNeigh.groupby(index_cols)[\"Neighbourhood\"].apply(list)\n",
    "dfCanadaNeigh = dfCanadaNeigh.reset_index()\n"
   ]
  },
  {
   "cell_type": "code",
   "execution_count": null,
   "metadata": {},
   "outputs": [],
   "source": [
    "dfCanadaNeigh.tail()"
   ]
  },
  {
   "cell_type": "code",
   "execution_count": null,
   "metadata": {},
   "outputs": [],
   "source": [
    "dfCanadaNeigh['Neighbourhood']=dfCanadaNeigh['Neighbourhood'].astype(str).str.replace(r\"[\\[\\]']\", '')\n",
    "dfCanadaNeigh.head()"
   ]
  },
  {
   "cell_type": "code",
   "execution_count": null,
   "metadata": {},
   "outputs": [],
   "source": [
    "dfCanadaNeigh"
   ]
  },
  {
   "cell_type": "markdown",
   "metadata": {},
   "source": [
    "#### For last, we will replace the \"Not assigned\", for the 'Borough' column in the same row."
   ]
  },
  {
   "cell_type": "code",
   "execution_count": null,
   "metadata": {},
   "outputs": [],
   "source": [
    "dfCanadaNeighCopy=dfCanadaNeigh\n",
    "dfCanadaNeigh['Neighbourhood'].replace(\"Not assigned\", dfCanadaNeigh['Borough'], inplace=True)\n",
    "dfCanadaNeigh.head()"
   ]
  },
  {
   "cell_type": "code",
   "execution_count": null,
   "metadata": {},
   "outputs": [],
   "source": [
    "FinalCanadadf = dfCanadaNeigh[dfCanadaNeigh.Borough != 'Not assigned'] #this operation creates a new df without the Borough not yet assigned.\n",
    "FinalCanadadf"
   ]
  },
  {
   "cell_type": "markdown",
   "metadata": {},
   "source": [
    "## Now we import the Geospatial data from given in the assignment"
   ]
  },
  {
   "cell_type": "code",
   "execution_count": null,
   "metadata": {},
   "outputs": [],
   "source": [
    "CanadaGeodf = pd.read_csv('https://cocl.us/Geospatial_data')\n",
    "CanadaGeodf.head()"
   ]
  },
  {
   "cell_type": "markdown",
   "metadata": {},
   "source": [
    "#### Now we merge the data downloaded from the CSV file into the previous dataframe of the neighbourhoods"
   ]
  },
  {
   "cell_type": "code",
   "execution_count": null,
   "metadata": {},
   "outputs": [],
   "source": [
    "dfCanadaNeigh = pd.merge(FinalCanadadf, CanadaGeodf, how='left',\n",
    "        left_on='Postcode', right_on='Postal Code', validate=\"1:1\")\n",
    "dfCanadaNeigh.head()\n"
   ]
  },
  {
   "cell_type": "markdown",
   "metadata": {},
   "source": [
    "#### The postal code has been merged as well, so we take that column out"
   ]
  },
  {
   "cell_type": "code",
   "execution_count": null,
   "metadata": {},
   "outputs": [],
   "source": [
    "FinalCanadadf.drop(labels='Postal Code', axis=1, inplace=True)\n",
    "FinalCanadadf.head()"
   ]
  },
  {
   "cell_type": "markdown",
   "metadata": {},
   "source": [
    "### Now we export the df as a CSV file in order to make the 3rd part of the code leaner"
   ]
  },
  {
   "cell_type": "code",
   "execution_count": null,
   "metadata": {},
   "outputs": [],
   "source": [
    "FinalCanadadf.to_csv('CanadaZIPCodeswithPosition.csv')"
   ]
  },
  {
   "cell_type": "code",
   "execution_count": null,
   "metadata": {},
   "outputs": [],
   "source": []
  }
 ],
 "metadata": {
  "kernelspec": {
   "display_name": "Python",
   "language": "python",
   "name": "conda-env-python-py"
  },
  "language_info": {
   "codemirror_mode": {
    "name": "ipython",
    "version": 3
   },
   "file_extension": ".py",
   "mimetype": "text/x-python",
   "name": "python",
   "nbconvert_exporter": "python",
   "pygments_lexer": "ipython3",
   "version": "3.6.7"
  }
 },
 "nbformat": 4,
 "nbformat_minor": 4
}
